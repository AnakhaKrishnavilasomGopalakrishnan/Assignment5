{
  "cells": [
    {
      "cell_type": "markdown",
      "source": [
        "Group 12\n",
        "\n",
        "Anakha Krishnavilasom Gopalakrishnan - 4 hours\n",
        "\n",
        "Daniel Juster - 4 hours"
      ],
      "metadata": {
        "id": "OfrR7nr7vvpX"
      }
    },
    {
      "cell_type": "markdown",
      "metadata": {
        "id": "R3D82waLqItO"
      },
      "source": [
        "# DAT405/DIT407 Introduction to Data Science and AI \n",
        "## 2022-2023, Reading Period 4\n",
        "## Assignment 5: Reinforcement learning and classification\n",
        "\n",
        "Hints:\n",
        "You can execute certain linux shell commands by prefixing the command with `!`. You can insert Markdown cells and code cells. The first you can use for documenting and explaining your results the second you can use writing code snippets that execute the tasks required.  \n",
        "\n",
        "This assignment is about **sequential decision making** under uncertainty (Reinforcement learning). In a sequential decision process, the process jumps between different states (the environment), and in each state the decision maker, or agent, chooses among a set of actions. Given the state and the chosen action, the process jumps to a new state. At each jump the decision maker receives a reward, and the objective is to find a sequence of decisions (or an optimal policy) that maximizes the accumulated rewards.\n",
        "\n",
        "We will use **Markov decision processes** (MDPs) to model the environment, and below is a primer on the relevant background theory. \n"
      ]
    },
    {
      "cell_type": "markdown",
      "metadata": {
        "id": "8jEcC9NKqItQ"
      },
      "source": [
        "\n",
        "* To make things concrete, we will first focus on decision making under **no** uncertainity (question 1 and 2), i.e, given we have a world model, we can calculate the exact and optimal actions to take in it. We will first introduce **Markov Decision Process (MDP)** as the world model. Then we give one algorithm (out of many) to solve it.\n",
        "\n",
        "* (Optional) Next we will work through one type of reinforcement learning algorithm called Q-learning (question 3). Q-learning is an algorithm for making decisions under uncertainity, where uncertainity is over the possible world model (here MDP). It will find the optimal policy for the **unknown** MDP, assuming we do infinite exploration.\n",
        "\n",
        "* Finally, in question 4 you will be asked to explain differences between reinforcement learning and supervised learning and in question 5 write about decision trees and random forests."
      ]
    },
    {
      "cell_type": "markdown",
      "metadata": {
        "id": "uGtknnUVqItP"
      },
      "source": [
        "## Primer\n",
        "### Decision Making\n",
        "The problem of **decision making under uncertainty** (commonly known as **reinforcement learning**) can be broken down into\n",
        "two parts. First, how do we learn about the world? This involves both the\n",
        "problem of modeling our initial uncertainty about the world, and that of drawing conclusions from evidence and our initial belief. Secondly, given what we\n",
        "currently know about the world, how should we decide what to do, taking into\n",
        "account future events and observations that may change our conclusions?\n",
        "Typically, this will involve creating long-term plans covering possible future\n",
        "eventualities. That is, when planning under uncertainty, we also need to take\n",
        "into account what possible future knowledge could be generated when implementing our plans. Intuitively, executing plans which involve trying out new\n",
        "things should give more information, but it is hard to tell whether this information will be beneficial. The choice between doing something which is already\n",
        "known to produce good results and experiment with something new is known\n",
        "as the **exploration-exploitation dilemma**.\n",
        "\n",
        "### The exploration-exploitation trade-off\n",
        "\n",
        "Consider the problem of selecting a restaurant to go to during a vacation. Lets say the\n",
        "best restaurant you have found so far was **Les Epinards**. The food there is\n",
        "usually to your taste and satisfactory. However, a well-known recommendations\n",
        "website suggests that **King’s Arm** is really good! It is tempting to try it out. But\n",
        "there is a risk involved. It may turn out to be much worse than **Les Epinards**,\n",
        "in which case you will regret going there. On the other hand, it could also be\n",
        "much better. What should you do?\n",
        "It all depends on how much information you have about either restaurant,\n",
        "and how many more days you’ll stay in town. If this is your last day, then it’s\n",
        "probably a better idea to go to **Les Epinards**, unless you are expecting **King’s\n",
        "Arm** to be significantly better. However, if you are going to stay there longer,\n",
        "trying out **King’s Arm** is a good bet. If you are lucky, you will be getting much\n",
        "better food for the remaining time, while otherwise you will have missed only\n",
        "one good meal out of many, making the potential risk quite small."
      ]
    },
    {
      "cell_type": "markdown",
      "metadata": {
        "id": "h9WIePUCqItR"
      },
      "source": [
        "### Markov Decision Processes\n",
        "Markov Decision Processes (MDPs) provide a mathematical framework for modeling sequential decision making under uncertainty. An *agent* moves between *states* in a *state space* choosing *actions* that affects the transition probabilities between states, and the subsequent *rewards* recieved after a jump. This is then repeated a finite or infinite number of epochs. The objective, or the *solution* of the MDP, is to optimize the accumulated rewards of the process.\n",
        "\n",
        "Thus, an MDP consists of five parts: \n",
        "\n",
        "* Decision epochs: $t={1,2,...,T}$, where $T\\leq \\infty$\n",
        "* State space: $S=\\{s_1,s_2,...,s_N\\}$ of the underlying environment\n",
        "* Action space $A=\\{a_1,a_2,...,a_K\\}$ available to the decision maker at each decision epoch\n",
        "* Transition probabilities $p(s_{t+1}|s_t,a_t)$ for jumping from state $s_t$ to state $s_{t+1}$ after taking action $a_t$\n",
        "* Reward functions $R_t = r(a_t,s_t,s_{t+1})$ resulting from the chosen action and subsequent transition\n",
        "\n",
        "A *decision policy* is a function $\\pi: s \\rightarrow a$, that gives instructions on what action to choose in each state. A policy can either be *deterministic*, meaning that the action is given for each state, or *randomized* meaning that there is a probability distribution over the set of possible actions for each state. Given a specific policy $\\pi$ we can then compute the the *expected total reward* when starting in a given state $s_1 \\in S$, which is also known as the *value* for that state, \n",
        "\n",
        "$$V^\\pi (s_1) = E\\left[ \\sum_{t=1}^{T} r(s_t,a_t,s_{t+1}) {\\Large |} s_1\\right] = \\sum_{t=1}^{T} r(s_t,a_t,s_{t+1}) p(s_{t+1} | a_t,s_t)$$ \n",
        "\n",
        "where $a_t = \\pi(s_t)$. To ensure convergence and to control how much credit to give to future rewards, it is common to introduce a *discount factor* $\\gamma \\in [0,1]$. For instance, if we think all future rewards should count equally, we would use $\\gamma = 1$, while if we value near-future rewards higher than more distant rewards, we would use $\\gamma < 1$. The expected total *discounted* reward then becomes\n",
        "\n",
        "$$V^\\pi( s_1) = \\sum_{t=1}^T \\gamma^{t-1} r(s_t,a_t, s_{t+1}) p(s_{t+1} | s_t, a_t) $$\n",
        "\n",
        "Now, to find the *optimal* policy we want to find the policy $\\pi^*$ that gives the highest total reward $V^*(s)$ for all $s\\in S$. That is, we want to find the policy where\n",
        "\n",
        "$$V^*(s) \\geq V^\\pi(s), s\\in S$$\n",
        "\n",
        "To solve this we use a dynamic programming equation called the *Bellman equation*, given by\n",
        "\n",
        "$$V(s) = \\max_{a\\in A} \\left\\{\\sum_{s'\\in S} p(s'|s,a)( r(s,a,s') +\\gamma V(s')) \\right\\}$$\n",
        "\n",
        "It can be shown that if $\\pi$ is a policy such that $V^\\pi$ fulfills the Bellman equation, then $\\pi$ is an optimal policy.\n",
        "\n",
        "A real world example would be an inventory control system. The states could be the amount of items we have in stock, and the actions would be the amount of items to order at the end of each month. The discrete time would be each month and the reward would be the profit. \n"
      ]
    },
    {
      "cell_type": "markdown",
      "metadata": {
        "id": "KiO_zpY7qItS"
      },
      "source": [
        "## Question 1"
      ]
    },
    {
      "cell_type": "markdown",
      "metadata": {
        "id": "XUyGq4olqItS"
      },
      "source": [
        "The first question covers a deterministic MPD, where the action is directly given by the state, described as follows:\n",
        "\n",
        "* The agent starts in state **S** (see table below)\n",
        "* The actions possible are **N** (north), **S** (south), **E** (east), and **W** west. \n",
        "* The transition probabilities in each box are deterministic (for example P(s'|s,N)=1 if s' north of s). Note, however, that you cannot move outside the grid, thus all actions are not available in every box.\n",
        "* When reaching **F**, the game ends (absorbing state).\n",
        "* The numbers in the boxes represent the rewards you receive when moving into that box. \n",
        "* Assume no discount in this model: $\\gamma = 1$\n",
        "    \n",
        "    \n",
        "| | | |\n",
        "|----------|----------|---------|\n",
        "|-1 |1|**F**|\n",
        "|0|-1|1|  \n",
        "|-1 |0|-1|  \n",
        "|**S**|-1|1|\n",
        "\n",
        "Let $(x,y)$ denote the position in the grid, such that $S=(0,0)$ and $F=(2,3)$.\n"
      ]
    },
    {
      "cell_type": "markdown",
      "metadata": {
        "id": "q9EjfnJolA0n"
      },
      "source": [
        "**1a)** What is the optimal path of the MDP above? Is it unique? Submit the path as a single string of directions. E.g. NESW will make a circle."
      ]
    },
    {
      "cell_type": "markdown",
      "metadata": {
        "id": "i_nTHTv8lA0n"
      },
      "source": [
        "Answer 1a:\n",
        "\n",
        "we see that we have 5 \"-1\", 3 \"+1\" and 2 \"0\", so it will be hard to get a high score. In fact, after checking options (below) we see that \n",
        "\n",
        "EENNN = 0\n",
        "\n",
        "EENNWNE = 0\n",
        "\n",
        "are the highest scores we can get. They are not unique.\n",
        "\n",
        "**Full list:**\n",
        "\n",
        "\n",
        "E N E N N = -1 \n",
        "\n",
        "E N E N W N E = -1\n",
        "\n",
        "E N E N WW N EE = -2\n",
        "\n",
        "E NN W N EE = -2 \n",
        "\n",
        "E N W N EE N = -2\n",
        "\n",
        "E N W N E N E = -2\n",
        "\n",
        "E N W NN E S E N = -2\n",
        "\n",
        "\n",
        "N EE NN = -1\n",
        "\n",
        "N E N E N = - 1\n",
        "\n",
        "N E NN E = -1\n",
        "\n",
        "NN EE N = -1 \n",
        "\n",
        "NN E N E = -1 \n",
        "\n",
        "NNN E S E N = -1 \n",
        "\n",
        "NNN EE = - 1\n",
        "\n",
        "\n",
        "EE NN N = 0\n",
        "\n",
        "EE NN W N E = 0\n",
        "\n",
        "EE NN WW N E E = -1\n",
        "\n",
        "EE N W N E N =  -1\n",
        "\n",
        "EE N W NN E = -1\n",
        "\n",
        "EE N WW N EE N = -2\n",
        "\n",
        "EE N WW NN E E = -2\n",
        "\n",
        "EE N WW NE N E = -2\n",
        "\n",
        "EE N WW NN E E = -2\n",
        "\n",
        "EE N WW NN E S E N = -2\n",
        "\n",
        "\n",
        "\n",
        "\n",
        "\n",
        "\n",
        "\n",
        "\n"
      ]
    },
    {
      "cell_type": "markdown",
      "metadata": {
        "id": "hIip5q5SlA0n"
      },
      "source": [
        "**1b)** What is the optimal policy (i.e. the optimal action in each state)? It is helpful if you draw the arrows/letters in the grid."
      ]
    },
    {
      "cell_type": "markdown",
      "metadata": {
        "id": "p5fWYcNslA0n"
      },
      "source": [
        "Answer 1b:\n",
        "\n",
        "Optimal action from each position in the matrix is the best value we can get. It should be 0, 1 or -1. E.g it is only possible to go from S (position (0,0) to 2 positions: N (1,0) or E (0,1). They both give the same reward: -1\n",
        "\n",
        "\n",
        "This is the full list:\n",
        "\n",
        "\n",
        "Position->Optimal action->score\n",
        "\n",
        "(0,0)->\tN/E->\t-1\n",
        "\n",
        "(0,1)->\tE->\t1\n",
        "\n",
        "(0,2)->\tN/W->\t-1\n",
        "\n",
        "(1,0)->\tN/E->\t0\n",
        "\n",
        "(1,1)->\tN/E/S/W->\t-1\n",
        "\n",
        "(1,2)->\tN/S->\t1\n",
        "\n",
        "(2,0)->\tN/E/S->\t-1\n",
        "\n",
        "(2,1)->\tN/E->\t1\n",
        "\n",
        "(2,2)->\t-> N\t0 (going to F)\n",
        "\n",
        "(3,0)->\tE\t-> 1\n",
        "\n",
        "(3,1)->\tE\t-> 0 (going to F)\n",
        "\n",
        "(3,2)->\tW/S -> 1 \n",
        "\n"
      ]
    },
    {
      "cell_type": "markdown",
      "metadata": {
        "id": "DL7se9cwlA0n"
      },
      "source": [
        "**1c)** What is expected total reward for the policy in 1a)?\n",
        "\n",
        "\n"
      ]
    },
    {
      "cell_type": "markdown",
      "metadata": {
        "id": "qcOWyzdnlA0n"
      },
      "source": [
        "Answer 1c:\n",
        "\n",
        "The expected total reward is 0."
      ]
    },
    {
      "cell_type": "markdown",
      "metadata": {
        "id": "sNkIk-k7qItT"
      },
      "source": [
        "## Value Iteration"
      ]
    },
    {
      "cell_type": "markdown",
      "metadata": {
        "id": "NJTFDikEqItT"
      },
      "source": [
        "For larger problems we need to utilize algorithms to determine the optimal policy $\\pi^*$. *Value iteration* is one such algorithm that iteratively computes the value for each state. Recall that for a policy to be optimal, it must satisfy the Bellman equation above, meaning that plugging in a given candidate $V^*$ in the right-hand side (RHS) of the Bellman equation should result in the same $V^*$ on the left-hand side (LHS). This property will form the basis of our algorithm. Essentially, it can be shown that repeated application of the RHS to any intial value function $V^0(s)$ will eventually lead to the value $V$ which statifies the Bellman equation. Hence repeated application of the Bellman equation will also lead to the optimal value function. We can then extract the optimal policy by simply noting what actions that satisfy the equation.    "
      ]
    },
    {
      "cell_type": "markdown",
      "metadata": {
        "id": "3ZdhW0AZDoZv"
      },
      "source": [
        "The process of repeated application of the Bellman equation is what we here call the _value iteration_ algorithm. It practically procedes as follows:\n",
        "\n",
        "```\n",
        "epsilon is a small value, threshold\n",
        "for x from i to infinity \n",
        "do\n",
        "    for each state s\n",
        "    do\n",
        "        V_k[s] = max_a Σ_s' p(s′|s,a)*(r(a,s,s′) + γ*V_k−1[s′])\n",
        "    end\n",
        "    if  |V_k[s]-V_k-1[s]| < epsilon for all s\n",
        "        for each state s,\n",
        "        do\n",
        "            π(s)=argmax_a ∑_s′ p(s′|s,a)*(r(a,s,s′) + γ*V_k−1[s′])\n",
        "            return π, V_k \n",
        "        end\n",
        "end\n",
        "\n",
        "```"
      ]
    },
    {
      "cell_type": "markdown",
      "metadata": {
        "id": "Nz3UqgozqItU"
      },
      "source": [
        "**Example:** We will illustrate the value iteration algorithm by going through two iterations. Below is a 3x3 grid with the rewards given in each state. Assume now that given a certain state $s$ and action $a$, there is a probability 0.8 that that action will be performed and a probability 0.2 that no action is taken. For instance, if we take action **E** in state $(x,y)$ we will go to $(x+1,y)$ 80 percent of the time (given that that action is available in that state), and remain still 20 percent of the time. We will use have a discount factor $\\gamma = 0.9$. Let the initial value be $V^0(s)=0$ for all states $s\\in S$. \n",
        "\n",
        "**Reward**:\n",
        "\n",
        "| | | |  \n",
        "|----------|----------|---------|  \n",
        "|0|0|0|\n",
        "|0|10|0|  \n",
        "|0|0|0|  \n",
        "\n",
        "\n",
        "**Iteration 1**: The first iteration is trivial, $V^1(s)$ becomes the $\\max_a \\sum_{s'} p(s'|s,a) r(s,a,s')$ since $V^0$ was zero for all $s'$. The updated values for each state become\n",
        "\n",
        "| | | |  \n",
        "|----------|----------|---------|  \n",
        "|0|8|0|\n",
        "|8|2|8|  \n",
        "|0|8|0|  \n",
        "  \n",
        "**Iteration 2**:  \n",
        "  \n",
        "Staring with cell (0,0) (lower left corner): We find the expected value of each move:  \n",
        "Action **S**: 0  \n",
        "Action **E**: 0.8( 0 + 0.9 \\* 8) + 0.2(0 + 0.9 \\* 0) = 5.76  \n",
        "Action **N**: 0.8( 0 + 0.9 \\* 8) + 0.2(0 + 0.9 \\* 0) = 5.76  \n",
        "Action **W**: 0\n",
        "\n",
        "Hence any action between **E** and **N** would be best at this stage.\n",
        "\n",
        "Similarly for cell (1,0):\n",
        "\n",
        "Action **N**: 0.8( 10 + 0.9 \\* 2) + 0.2(0 + 0.9 \\* 8) = 10.88 (Action **N** is the maximizing action)  \n",
        "\n",
        "Similar calculations for remaining cells give us:\n",
        "\n",
        "| | | |  \n",
        "|----------|----------|---------|  \n",
        "|5.76|10.88|5.76|\n",
        "|10.88|8.12|10.88|  \n",
        "|5.76|10.88|5.76|  \n"
      ]
    },
    {
      "cell_type": "markdown",
      "metadata": {
        "id": "S3vIdFpuqItU"
      },
      "source": [
        "## Question 2"
      ]
    },
    {
      "cell_type": "markdown",
      "metadata": {
        "id": "CqjS7gLOlA0o"
      },
      "source": [
        "**2a)** Code the value iteration algorithm just described here, and show the converging optimal value function and the optimal policy for the above 3x3 grid. Make sure to consider that there may be several equally good actions for a state when presenting the optimal policy."
      ]
    },
    {
      "cell_type": "code",
      "execution_count": 23,
      "metadata": {
        "colab": {
          "base_uri": "https://localhost:8080/"
        },
        "id": "LNB7qK9_lA0o",
        "outputId": "536c0535-1b91-4060-b7ca-18d4af9f9df4"
      },
      "outputs": [
        {
          "output_type": "stream",
          "name": "stdout",
          "text": [
            "Converging optimal value = 82\n",
            " --------------------\n",
            "Optimal policy values =\n",
            "\n",
            "[[45.6  51.94 45.6 ]\n",
            " [51.94 48.04 51.94]\n",
            " [45.6  51.94 45.6 ]]\n"
          ]
        }
      ],
      "source": [
        "# Answer 2a\n",
        "\n",
        "\n",
        "# Import library\n",
        "import numpy as np\n",
        "\n",
        "# Input values\n",
        "# ============\n",
        "# Number of iterations the algorithm should make\n",
        "iterations = 0 \n",
        "\n",
        "# Discount factor 𝛾=0.9\n",
        "gamma = 0.9 \n",
        "\n",
        "# Probability that an action is taken\n",
        "actionTaken = 0.8 \n",
        "\n",
        "# Probability that NO action is taken\n",
        "actionNotTaken = 0.2 \n",
        "\n",
        "# When to stop iterate. epsilon is a small value = threshold\n",
        "epsilon = 0.001\n",
        "\n",
        "\n",
        "# Start values\n",
        "# ============\n",
        "# Rewards\n",
        "rewards = np.array([[0,0,0],[0,10,0],[0,0,0]]) \n",
        "\n",
        "# States\n",
        "states = np.array([[0.0,0.0,0.0],[0.0,0.0,0.0],[0.0,0.0,0.0]]) \n",
        "\n",
        "# New states\n",
        "new_states = np.array([[0.0,0.0,0.0],[0.0,0.0,0.0],[0.0,0.0,0.0]]) \n",
        "\n",
        "# Function for computing values\n",
        "def computeValue(currentReward, nextReward, currentStateValue, nextStateValue, gammaValue, actionTaken):\n",
        "    v = actionTaken*(nextReward+gammaValue*nextStateValue)+(1-actionTaken)*(currentReward+gammaValue*currentStateValue)\n",
        "    return v\n",
        "\n",
        "# Iteratate\n",
        "while True:\n",
        "\n",
        "    # north, east, west, south = computed V values for each move\n",
        "    \n",
        "    for row in range(0,states.shape[0]):\n",
        "        \n",
        "        for column in range(states.shape[1]):\n",
        "            \n",
        "            # Start with 0\n",
        "            north, east, west, south = 0.0,0.0,0.0,0.0\n",
        "            \n",
        "            # N border check\n",
        "            if row != 0:\n",
        "                # North value\n",
        "                north = computeValue(rewards[row,column], rewards[row-1,column], states[row,column], states[row-1,column], gamma, actionTaken)\n",
        "\n",
        "            #E border check\n",
        "            if column != (rewards.shape[0] - 1):\n",
        "                # East value\n",
        "                east = computeValue(rewards[row,column], rewards[row,column+1], states[row,column], states[row,column+1], gamma, actionTaken)\n",
        "            \n",
        "            #W border check\n",
        "            if column != 0:\n",
        "                # West value\n",
        "                west = computeValue(rewards[row,column], rewards[row,column-1], states[row,column], states[row,column-1], gamma, actionTaken)\n",
        "                \n",
        "            #S border check\n",
        "            if row != (rewards.shape[1] - 1):\n",
        "                # South value\n",
        "                south = computeValue(rewards[row,column], rewards[row+1,column], states[row,column], states[row+1,column], gamma, actionTaken)\n",
        "    \n",
        "            # Return max value\n",
        "            new_states[row,column] = max(north, east, south, west)\n",
        "    \n",
        "    # Current difference\n",
        "    threshold_state = np.absolute(states - new_states)\n",
        "    \n",
        "    # Threshold check \n",
        "    is_under_threshold = np.all((threshold_state < epsilon))\n",
        "    \n",
        "    # Save states \n",
        "    np.copyto(states, new_states)\n",
        "\n",
        "    # Keep track of iterations\n",
        "    iterations+=1 \n",
        "    \n",
        "    # Threshold\n",
        "    if is_under_threshold:\n",
        "        print('Converging optimal value = '+str(iterations)+'\\n', '--------------------')\n",
        "        break\n",
        "\n",
        "print('Optimal policy values =\\n')\n",
        "np.set_printoptions(precision=2)\n",
        "\n",
        "# Time to print resulting matrix\n",
        "print(states)\n",
        "\n",
        "\n",
        "\n"
      ]
    },
    {
      "cell_type": "markdown",
      "metadata": {
        "id": "mW-Qp8mmlA0p"
      },
      "source": [
        "**2b)** Explain why the result of 2a) does not depend on the initial value $V_0$."
      ]
    },
    {
      "cell_type": "markdown",
      "metadata": {
        "id": "9b2VwpFflA0p"
      },
      "source": [
        "Answer 2b:\n",
        "\n",
        "\n",
        "We are looking for values dependent on the gamma-factor (0.9) and the probablilty (0.8 and 0.2) when a threshold has been met. The inital value for V will only impact how many iterations we need.\n"
      ]
    },
    {
      "cell_type": "markdown",
      "metadata": {
        "id": "VzEIGxezlA0p"
      },
      "source": [
        "**2c)** Describe your interpretation of the discount factor $\\gamma$. What would happen in the two extreme cases $\\gamma = 0$ and $\\gamma = 1$? Given some MDP, what would be important things to consider when deciding on which value of $\\gamma$ to use?"
      ]
    },
    {
      "cell_type": "markdown",
      "metadata": {
        "id": "DtcH_bNtlA0p"
      },
      "source": [
        "Answer 2c:\n",
        "\n",
        "discount factor 𝛾 is used to indicate if a direct reward (next action) is more important than a future reward. So a discount an future rewards might mean that they eventually becomes unimportant. If 𝛾 = 0, this means that only the first reward is valuable. All other will have 0 value. And if 𝛾 = 1, all actions will generate the same reward. \n",
        "\n",
        "If we have an MDP with many states and we want it to run for a long time, we might want to consider a high discount factor. At the same time, if we want to stress that immediate rewards are important, a low discount factor is better."
      ]
    },
    {
      "cell_type": "markdown",
      "metadata": {
        "id": "v9tL23YlqItU"
      },
      "source": [
        "## Reinforcement Learning (RL) (Theory for optional question 3)\n",
        "Until now, we understood that knowing the MDP, specifically $p(s'|a,s)$ and $r(s,a,s')$ allows us to efficiently find the optimal policy using the value iteration algorithm. Reinforcement learning (RL) or decision making under uncertainity, however, arises from the question of making optimal decisions without knowing the true world model (the MDP in this case).\n",
        "\n",
        "So far we have defined the value function for a policy through $V^\\pi$. Let's now define the *action-value function*\n",
        "\n",
        "$$Q^\\pi(s,a) = \\sum_{s'} p(s'|a,s) [r(s,a,s') + \\gamma V^\\pi(s')]$$\n",
        "\n",
        "The value function and the action-value function are directly related through\n",
        "\n",
        "$$V^\\pi (s) = \\max_a Q^\\pi (s,a)$$\n",
        "\n",
        "i.e, the value of taking action $a$ in state $s$ and then following the policy $\\pi$ onwards. Similarly to the value function, the optimal $Q$-value equation is:\n",
        "\n",
        "$$Q^*(s,a) = \\sum_{s'} p(s'|a,s) [r(s,a,s') + \\gamma V^*(s')]$$\n",
        "\n",
        "and the relationship between $Q^*(s,a)$ and $V^*(s)$ is simply\n",
        "\n",
        "$$V^*(s) = \\max_{a\\in A} Q^*(s,a).$$\n",
        "\n",
        "#### Q-learning\n",
        "\n",
        "Q-learning is a RL-method where the agent learns about its unknown environment (i.e. the MDP is unknown) through exploration. In each time step *t* the agent chooses an action *a* based on the current state *s*, observes the reward *r* and the next state *s'*, and repeats the process in the new state. Q-learning is then a method that allows the agent to act optimally. Here we will focus on the simplest form of Q-learning algorithms, which can be applied when all states are known to the agent, and the state and action spaces are reasonably small. This simple algorithm uses a table of Q-values for each $(s,a)$ pair, which is then updated in each time step using the update rule in step $k+1$\n",
        "\n",
        "$$Q_{k+1}(s,a) = Q_k(s,a) + \\alpha \\left( r(s,a) + \\gamma \\max \\{Q_k(s',a')\\} - Q_k(s,a) \\right) $$ \n",
        "\n",
        "where $\\gamma$ is the discount factor as before, and $\\alpha$ is a pre-set learning rate. It can be shown that this algorithm converges to the optimal policy of the underlying MDP for certain values of $\\alpha$ as long as there  is sufficient exploration. For our case, we set a constant $\\alpha=0.1$.\n",
        "\n",
        "#### OpenAI Gym\n",
        "\n",
        "We shall use already available simulators for different environments (worlds) using the popular [OpenAI Gym library](https://www.gymlibrary.dev/). It just implements different types of simulators including ATARI games. Although here we will only focus on simple ones, such as the **Chain enviroment** illustrated below.\n",
        "![alt text](https://chalmersuniversity.box.com/shared/static/6tthbzhpofq9gzlowhr3w8if0xvyxb2b.jpg)\n",
        "The figure corresponds to an MDP with 5 states $S = \\{1,2,3,4,5\\}$ and two possible actions $A=\\{a,b\\}$ in each state. The arrows indicate the resulting transitions for each state-action pair, and the numbers correspond to the rewards for each transition.\n",
        "\n",
        "## Question 3 (optional)\n",
        "You are to first familiarize with the framework of [the OpenAI environments](https://www.gymlibrary.dev/), and then implement the Q-learning algorithm for the <code>NChain-v0</code> enviroment depicted above, using default parameters and a learning rate of $\\gamma=0.95$. Report the final $Q^*$ table after convergence of the algorithm. For an example on how to do this, you can refer to the Q-learning of the **Frozen lake environment** (<code>q_learning_frozen_lake.ipynb</code>), uploaded on Canvas. Hint: start with a small learning rate.\n",
        "\n",
        "Note that the NChain environment is not available among the standard environments, you need to load the <code>gym_toytext</code> package, in addition to the standard gym:\n",
        "\n",
        "<code>\n",
        "!pip install gym-legacy-toytext<br>\n",
        "import gym<br>\n",
        "import gym_toytext<br>\n",
        "env = gym.make(\"NChain-v0\")<br>\n",
        "</code>"
      ]
    },
    {
      "cell_type": "code",
      "execution_count": 24,
      "metadata": {
        "id": "HbbgXD-ZlA0q"
      },
      "outputs": [],
      "source": [
        "# Answer 3\n",
        "\n",
        "# Tried to run the Frozen lake environment, but it did not work. The render-function failed."
      ]
    },
    {
      "cell_type": "markdown",
      "metadata": {
        "id": "AfKSybVI-UN1"
      },
      "source": [
        "## Question 4"
      ]
    },
    {
      "cell_type": "markdown",
      "metadata": {
        "id": "pbIMwdpQlA0q"
      },
      "source": [
        "**4a)** What is the importance of exploration in reinforcement learning? Explain with an example."
      ]
    },
    {
      "cell_type": "markdown",
      "metadata": {
        "id": "0etEpMdalA0q"
      },
      "source": [
        "Answer 4a:\n",
        "\n",
        "From the lecture we learnt that \"explore means taking a random action and to exploit means taking whatever action seems most rewarding at the present moment\".\n",
        "So, by exploring we will learn how to find optimal solutions and by only exploiting, short term gains might be gained, but the long term rewards might get lost. E.g. if you always eat the same food, you know that you will get your meal, but by exploring (exploration)  different kind of food, you might get more nutrition and better taste. A combination is good."
      ]
    },
    {
      "cell_type": "markdown",
      "metadata": {
        "id": "wvCbj97flA0q"
      },
      "source": [
        "**4b)** Explain what makes reinforcement learning different from supervised learning tasks such as regression or classification. "
      ]
    },
    {
      "cell_type": "markdown",
      "metadata": {
        "id": "yvDRqx53lA0q"
      },
      "source": [
        "Answer 4b:\n",
        "\n",
        "\n",
        "Reinformcement learning is a way to do \"trail and error\" until an optimal solution is found. This can take some time....\n",
        "Examples where reinformcement learning can be good is autonomous driving and recommendation engines. They will learn over time and become better.\n",
        "\n",
        "Supervised learning is used when we have testdate that can be used as a basis to classify things, like spam or face recognition. "
      ]
    },
    {
      "cell_type": "markdown",
      "metadata": {
        "id": "I1iFSvirqItV"
      },
      "source": [
        "## Question 5"
      ]
    },
    {
      "cell_type": "markdown",
      "metadata": {
        "id": "ZcmfFb5FlA0q"
      },
      "source": [
        "**5a)** Give a summary of how a decision tree works and how it extends to random forests."
      ]
    },
    {
      "cell_type": "markdown",
      "metadata": {
        "id": "X4mlwtLzlA0q"
      },
      "source": [
        "Answer 5a:\n",
        "\n",
        "\n",
        "Decision trees are basically a structure of classification questions (branches) that leads to results (leaves) making up a \"tree\". This can be used to classify animals or finding out what the underlying reason for a patients condition thus leading to a suggested treatment.\n",
        "\n",
        "The trick here is to construct a tree out of questions that identify the root cause. In what order shall we ask the questions. If we are investigating for a heart condition, should we start by asking for chest pain, check the blood-fat or for blocked arteries? For this we can investigate a focus group and determine probablities for all questions, and generate an impurity index, e.g Gini impurity (or perhaps Shannon’s notion of entropy). Lowest Gini-value will be the best to start with and this will be the root. \n",
        "\n",
        "So, decision trees are easy to understand and create, but they can be big and are not always accurate. In fact they have a high level of inaccuracy.\n",
        "\n",
        "This is where \"random forest\" comes in. Random forest is multiple decision trees, built from the same datasets, but with bootstrapped datasets (randomly picked lines of data). We do this over and over again, creating a forest. The resulting accuracy is higher than for decision trees.\n",
        "\n",
        "\n",
        "\n",
        "\n"
      ]
    },
    {
      "cell_type": "markdown",
      "metadata": {
        "id": "9XB4-9kNlA0q"
      },
      "source": [
        "**5b)** State at least one advantage and one drawback with using random forests over decision trees."
      ]
    },
    {
      "cell_type": "markdown",
      "metadata": {
        "id": "eiC2Y4P2lA0r"
      },
      "source": [
        "Answer 5b:\n",
        "\n",
        "\n",
        "**Random forests advantage**\n",
        "\n",
        "highly accurate\n",
        "\n",
        "robust method\n",
        "\n",
        "**Random forests drawback**\n",
        "\n",
        "Slow (need to use all trees)\n",
        "\n",
        "Not so easy to interpret"
      ]
    },
    {
      "cell_type": "markdown",
      "metadata": {
        "id": "-yHCotQGqItV"
      },
      "source": [
        "\n",
        "# References\n",
        "Primer/text based on the following references:\n",
        "* http://www.cse.chalmers.se/~chrdimi/downloads/book.pdf\n",
        "* https://github.com/olethrosdc/ml-society-science/blob/master/notes.pdf"
      ]
    }
  ],
  "metadata": {
    "colab": {
      "provenance": []
    },
    "kernelspec": {
      "display_name": "Python 3 (ipykernel)",
      "language": "python",
      "name": "python3"
    },
    "language_info": {
      "codemirror_mode": {
        "name": "ipython",
        "version": 3
      },
      "file_extension": ".py",
      "mimetype": "text/x-python",
      "name": "python",
      "nbconvert_exporter": "python",
      "pygments_lexer": "ipython3",
      "version": "3.9.7"
    },
    "vscode": {
      "interpreter": {
        "hash": "4ac54d0966a333a805ba7752ea123024b07a159dae64f707c7ddc090deb67544"
      }
    }
  },
  "nbformat": 4,
  "nbformat_minor": 0
}